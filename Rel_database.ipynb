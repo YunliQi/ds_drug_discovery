{
 "cells": [
  {
   "cell_type": "code",
   "execution_count": 2,
   "metadata": {},
   "outputs": [],
   "source": [
    "import sqlite3\n",
    "import csv\n",
    "\n",
    "\n",
    "class DatabaseManager():\n",
    "\n",
    "    def __init__(self, database_path, data_path):\n",
    "        self._database_path = database_path\n",
    "        self._conn = sqlite3.connect(database_path)\n",
    "        self.data_path = data_path\n",
    "\n",
    "    def setup(self):\n",
    "        conn = self._conn\n",
    "        conn.execute(\n",
    "            '''\n",
    "CREATE TABLE assays\n",
    "(\n",
    "    cid VARCHAR(20) PRIMARY KEY,\n",
    "    f_avg_IC50 DECIMAL not null,\n",
    "    r_avg_IC50 DECIMAL not null\n",
    ")\n",
    "'''\n",
    "        )\n",
    "        conn.execute(\n",
    "            '''\n",
    "CREATE TABLE compounds\n",
    "(\n",
    "    cid VARCHAR(20) PRIMARY KEY,\n",
    "    smiles VARCHAR(2000) not null,\n",
    "    hbd DECIMAL,\n",
    "    hba DECIMAL,\n",
    "    c_logp DECIMAL,\n",
    "    mw DECIMAL,\n",
    "    FOREIGN KEY(cid) REFERENCES assays(cid)\n",
    ")\n",
    "'''\n",
    "        )\n",
    "        with open(self.data_path, mode='r') as file:\n",
    "            csv_reader = csv.DictReader(file)\n",
    "            assay_data = {}\n",
    "            compound_data = {}\n",
    "            for row in csv_reader:\n",
    "                CID = row['CID']\n",
    "                assay_data[CID] = (CID, row['f_avg_IC50'], row['r_avg_IC50'])\n",
    "                compound_data[CID] = (CID, row['SMILES'])\n",
    "        conn.executemany('INSERT INTO assays (cid, f_avg_IC50, r_avg_IC50) VALUES (?, ?, ?)', assay_data.values())\n",
    "        conn.executemany('INSERT INTO compounds (cid, smiles) VALUES (?, ?)', compound_data.values())\n",
    "        conn.commit()\n",
    "\n"
   ]
  },
  {
   "cell_type": "code",
   "execution_count": 3,
   "metadata": {},
   "outputs": [],
   "source": [
    "database_path = 'database.db'\n",
    "data_path = 'covid_submissions_all_info.csv'\n",
    "\n",
    "manager = DatabaseManager(database_path=database_path, data_path=data_path)\n",
    "manager.setup() "
   ]
  },
  {
   "cell_type": "code",
   "execution_count": 4,
   "metadata": {},
   "outputs": [
    {
     "name": "stderr",
     "output_type": "stream",
     "text": [
      "[11:47:16] WARNING: not removing hydrogen atom without neighbors\n",
      "[11:47:16] WARNING: not removing hydrogen atom without neighbors\n"
     ]
    }
   ],
   "source": [
    "import sqlite3\n",
    "\n",
    "from rdkit import Chem\n",
    "from rdkit.Chem import Descriptors\n",
    "\n",
    "# Connect to the SQLite Database\n",
    "conn = sqlite3.connect('database.db')  # Replace with your database path\n",
    "cursor = conn.cursor()\n",
    "\n",
    "# Fetch the SMILES strings from your table\n",
    "query = \"SELECT smiles FROM compounds\"  # Replace with your query\n",
    "cursor.execute(query)\n",
    "\n",
    "for row in cursor.fetchall():\n",
    "    smiles = row[0]\n",
    "    mol = Chem.MolFromSmiles(smiles)\n",
    "\n",
    "    MW = Descriptors.MolWt(mol)\n",
    "    HBA = Descriptors.NOCount(mol)\n",
    "    HBD = Descriptors.NHOHCount(mol)\n",
    "    LogP = Descriptors.MolLogP(mol) \n",
    "\n",
    "    update_query = \"UPDATE compounds SET mw=?, hba=?, hbd=?, c_logp=? WHERE smiles=?\"\n",
    "    cursor.execute(update_query, (MW, HBA, HBD, LogP, smiles))\n",
    "\n",
    "conn.commit()\n"
   ]
  },
  {
   "cell_type": "code",
   "execution_count": null,
   "metadata": {},
   "outputs": [
    {
     "ename": "",
     "evalue": "",
     "output_type": "error",
     "traceback": [
      "\u001b[1;31mnotebook controller is DISPOSED. \n",
      "\u001b[1;31mView Jupyter <a href='command:jupyter.viewOutput'>log</a> for further details."
     ]
    }
   ],
   "source": [
    "from rdkit import Chem\n",
    "from rdkit.Chem import Descriptors\n",
    "\n",
    "conditions = [MW <= 500, HBA <= 10, HBD <= 5, LogP <= 5]\n",
    "pass_ro5 = conditions.count(True) >= 3"
   ]
  }
 ],
 "metadata": {
  "kernelspec": {
   "display_name": "data_science_class",
   "language": "python",
   "name": "python3"
  },
  "language_info": {
   "codemirror_mode": {
    "name": "ipython",
    "version": 3
   },
   "file_extension": ".py",
   "mimetype": "text/x-python",
   "name": "python",
   "nbconvert_exporter": "python",
   "pygments_lexer": "ipython3",
   "version": "3.11.7"
  }
 },
 "nbformat": 4,
 "nbformat_minor": 2
}
